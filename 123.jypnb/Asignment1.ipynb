{
 "cells": [
  {
   "cell_type": "code",
   "execution_count": 173,
   "metadata": {},
   "outputs": [],
   "source": [
    "import pandas as pd"
   ]
  },
  {
   "cell_type": "code",
   "execution_count": 174,
   "metadata": {},
   "outputs": [],
   "source": [
    "df=pd.read_csv(\"users/baoqiangzhang/Downloads/sales_data.csv\")"
   ]
  },
  {
   "cell_type": "code",
   "execution_count": 175,
   "metadata": {},
   "outputs": [
    {
     "data": {
      "text/html": [
       "<div>\n",
       "<style scoped>\n",
       "    .dataframe tbody tr th:only-of-type {\n",
       "        vertical-align: middle;\n",
       "    }\n",
       "\n",
       "    .dataframe tbody tr th {\n",
       "        vertical-align: top;\n",
       "    }\n",
       "\n",
       "    .dataframe thead th {\n",
       "        text-align: right;\n",
       "    }\n",
       "</style>\n",
       "<table border=\"1\" class=\"dataframe\">\n",
       "  <thead>\n",
       "    <tr style=\"text-align: right;\">\n",
       "      <th></th>\n",
       "      <th>Product</th>\n",
       "      <th>Region</th>\n",
       "      <th>Price</th>\n",
       "      <th>Units Sold</th>\n",
       "      <th>Sale Date</th>\n",
       "    </tr>\n",
       "  </thead>\n",
       "  <tbody>\n",
       "    <tr>\n",
       "      <th>0</th>\n",
       "      <td>NaN</td>\n",
       "      <td>Region_1</td>\n",
       "      <td>72.87</td>\n",
       "      <td>10.0</td>\n",
       "      <td>2022-01-01</td>\n",
       "    </tr>\n",
       "    <tr>\n",
       "      <th>1</th>\n",
       "      <td>Product_40</td>\n",
       "      <td>Region_2</td>\n",
       "      <td>46.19</td>\n",
       "      <td>10.0</td>\n",
       "      <td>2022-01-02</td>\n",
       "    </tr>\n",
       "    <tr>\n",
       "      <th>2</th>\n",
       "      <td>Product_1</td>\n",
       "      <td>Region_5</td>\n",
       "      <td>NaN</td>\n",
       "      <td>4.0</td>\n",
       "      <td>2022-01-03</td>\n",
       "    </tr>\n",
       "    <tr>\n",
       "      <th>3</th>\n",
       "      <td>Product_6</td>\n",
       "      <td>Region_8</td>\n",
       "      <td>143.47</td>\n",
       "      <td>8.0</td>\n",
       "      <td>2022-01-04</td>\n",
       "    </tr>\n",
       "    <tr>\n",
       "      <th>4</th>\n",
       "      <td>Product_44</td>\n",
       "      <td>Region_4</td>\n",
       "      <td>122.54</td>\n",
       "      <td>10.0</td>\n",
       "      <td>2022-01-05</td>\n",
       "    </tr>\n",
       "    <tr>\n",
       "      <th>...</th>\n",
       "      <td>...</td>\n",
       "      <td>...</td>\n",
       "      <td>...</td>\n",
       "      <td>...</td>\n",
       "      <td>...</td>\n",
       "    </tr>\n",
       "    <tr>\n",
       "      <th>1045</th>\n",
       "      <td>Product_42</td>\n",
       "      <td>Region_3</td>\n",
       "      <td>18.63</td>\n",
       "      <td>9.0</td>\n",
       "      <td>2023-07-10</td>\n",
       "    </tr>\n",
       "    <tr>\n",
       "      <th>1046</th>\n",
       "      <td>Product_4</td>\n",
       "      <td>Region_3</td>\n",
       "      <td>159.27</td>\n",
       "      <td>10.0</td>\n",
       "      <td>2024-07-14</td>\n",
       "    </tr>\n",
       "    <tr>\n",
       "      <th>1047</th>\n",
       "      <td>Product_43</td>\n",
       "      <td>Region_1</td>\n",
       "      <td>2.91</td>\n",
       "      <td>13.0</td>\n",
       "      <td>2023-08-17</td>\n",
       "    </tr>\n",
       "    <tr>\n",
       "      <th>1048</th>\n",
       "      <td>Product_27</td>\n",
       "      <td>Region_7</td>\n",
       "      <td>1.96</td>\n",
       "      <td>8.0</td>\n",
       "      <td>2024-03-10</td>\n",
       "    </tr>\n",
       "    <tr>\n",
       "      <th>1049</th>\n",
       "      <td>Product_3</td>\n",
       "      <td>NaN</td>\n",
       "      <td>302.68</td>\n",
       "      <td>11.0</td>\n",
       "      <td>2023-09-09</td>\n",
       "    </tr>\n",
       "  </tbody>\n",
       "</table>\n",
       "<p>1050 rows × 5 columns</p>\n",
       "</div>"
      ],
      "text/plain": [
       "         Product    Region   Price  Units Sold   Sale Date\n",
       "0            NaN  Region_1   72.87        10.0  2022-01-01\n",
       "1     Product_40  Region_2   46.19        10.0  2022-01-02\n",
       "2      Product_1  Region_5     NaN         4.0  2022-01-03\n",
       "3      Product_6  Region_8  143.47         8.0  2022-01-04\n",
       "4     Product_44  Region_4  122.54        10.0  2022-01-05\n",
       "...          ...       ...     ...         ...         ...\n",
       "1045  Product_42  Region_3   18.63         9.0  2023-07-10\n",
       "1046   Product_4  Region_3  159.27        10.0  2024-07-14\n",
       "1047  Product_43  Region_1    2.91        13.0  2023-08-17\n",
       "1048  Product_27  Region_7    1.96         8.0  2024-03-10\n",
       "1049   Product_3       NaN  302.68        11.0  2023-09-09\n",
       "\n",
       "[1050 rows x 5 columns]"
      ]
     },
     "execution_count": 175,
     "metadata": {},
     "output_type": "execute_result"
    }
   ],
   "source": [
    "df"
   ]
  },
  {
   "cell_type": "code",
   "execution_count": 176,
   "metadata": {},
   "outputs": [
    {
     "name": "stdout",
     "output_type": "stream",
     "text": [
      "Product       103\n",
      "Region        108\n",
      "Price         105\n",
      "Units Sold    107\n",
      "Sale Date       0\n",
      "dtype: int64\n"
     ]
    }
   ],
   "source": [
    "missing = df.isnull().sum()  #see what missing value in the dataset.\n",
    "print(missing)"
   ]
  },
  {
   "cell_type": "code",
   "execution_count": 177,
   "metadata": {},
   "outputs": [
    {
     "name": "stdout",
     "output_type": "stream",
     "text": [
      "49\n"
     ]
    }
   ],
   "source": [
    "duplicate_rows = df.duplicated()\n",
    "duplicate_rows = df.duplicated(subset=['Product', 'Region', 'Price', 'Units Sold', 'Sale Date'])\n",
    "print(duplicate_rows.sum())\n",
    "#check if there is any duplicates"
   ]
  },
  {
   "cell_type": "code",
   "execution_count": 178,
   "metadata": {},
   "outputs": [],
   "source": [
    "df = df.drop_duplicates()\n",
    "# drop all duplicates"
   ]
  },
  {
   "cell_type": "code",
   "execution_count": 179,
   "metadata": {},
   "outputs": [
    {
     "name": "stdout",
     "output_type": "stream",
     "text": [
      "0\n"
     ]
    }
   ],
   "source": [
    "duplicate_rows = df.duplicated()\n",
    "print(duplicate_rows.sum())\n",
    "#all duplicates gone"
   ]
  },
  {
   "cell_type": "code",
   "execution_count": 180,
   "metadata": {},
   "outputs": [],
   "source": [
    "columns_drop = ['Product', 'Region', 'Units Sold']\n",
    "df = df.dropna(subset=columns_drop) \n",
    "#I can fill price with median but product has vary price even with same product, so I can not guess the product name, same as region and units sold.\n"
   ]
  },
  {
   "cell_type": "code",
   "execution_count": 181,
   "metadata": {},
   "outputs": [
    {
     "name": "stdout",
     "output_type": "stream",
     "text": [
      "Product        0\n",
      "Region         0\n",
      "Price         74\n",
      "Units Sold     0\n",
      "Sale Date      0\n",
      "dtype: int64\n"
     ]
    }
   ],
   "source": [
    "missing1 = df.isnull().sum()\n",
    "print(missing1) \n",
    "# so I dropped them and trying to find the price average to fill the missing data."
   ]
  },
  {
   "cell_type": "code",
   "execution_count": 182,
   "metadata": {},
   "outputs": [
    {
     "name": "stdout",
     "output_type": "stream",
     "text": [
      "Product    Region   \n",
      "Product_1  Region_1     125.890\n",
      "           Region_10    100.230\n",
      "           Region_2      13.380\n",
      "           Region_3      72.550\n",
      "           Region_4     168.340\n",
      "                         ...   \n",
      "Product_9  Region_5      62.825\n",
      "           Region_6      44.340\n",
      "           Region_7         NaN\n",
      "           Region_8     146.220\n",
      "           Region_9      76.010\n",
      "Name: Price, Length: 389, dtype: float64\n"
     ]
    }
   ],
   "source": [
    "average_prices = df.groupby(['Product', 'Region'])['Price'].mean()\n",
    "print(average_prices) \n",
    "#I find average price of the product in different region to fill the missing data."
   ]
  },
  {
   "cell_type": "code",
   "execution_count": 183,
   "metadata": {},
   "outputs": [],
   "source": [
    "df['Price'] = df.groupby('Region')['Price'].transform(lambda x: x.fillna(x.mean()))\n",
    "#fill the missing price"
   ]
  },
  {
   "cell_type": "code",
   "execution_count": 184,
   "metadata": {},
   "outputs": [
    {
     "name": "stdout",
     "output_type": "stream",
     "text": [
      "Product       0\n",
      "Region        0\n",
      "Price         0\n",
      "Units Sold    0\n",
      "Sale Date     0\n",
      "dtype: int64\n"
     ]
    }
   ],
   "source": [
    "print(df.isnull().sum()) \n",
    "# all the missing data is gone."
   ]
  },
  {
   "cell_type": "code",
   "execution_count": 185,
   "metadata": {},
   "outputs": [],
   "source": [
    "df['Total'] = df['Units Sold'] * df['Price'] \n",
    "#I want to creat a new column named 'total' so i can see how much money they spend."
   ]
  },
  {
   "cell_type": "code",
   "execution_count": 186,
   "metadata": {},
   "outputs": [
    {
     "name": "stdout",
     "output_type": "stream",
     "text": [
      "      Product    Region       Price  Units Sold   Sale Date        Total\n",
      "1  Product_40  Region_2   46.190000        10.0  2022-01-02   461.900000\n",
      "2   Product_1  Region_5  102.667711         4.0  2022-01-03   410.670843\n",
      "3   Product_6  Region_8  143.470000         8.0  2022-01-04  1147.760000\n",
      "4  Product_44  Region_4  122.540000        10.0  2022-01-05  1225.400000\n",
      "5  Product_21  Region_8   15.760000        20.0  2022-01-06   315.200000\n"
     ]
    }
   ],
   "source": [
    "print(df.head())"
   ]
  },
  {
   "cell_type": "code",
   "execution_count": 187,
   "metadata": {},
   "outputs": [
    {
     "data": {
      "text/plain": [
       "<bound method NDFrame.describe of         Product    Region       Price  Units Sold   Sale Date      Total\n",
       "36   Product_42  Region_1   95.540000        14.0  2022-02-06  1337.5600\n",
       "50   Product_39  Region_1  219.550000         8.0  2022-02-20  1756.4000\n",
       "55   Product_47  Region_1   20.120000         2.0  2022-02-25    40.2400\n",
       "65   Product_32  Region_1  100.615167        15.0  2022-03-07  1509.2275\n",
       "73   Product_34  Region_1  124.300000        12.0  2022-03-15  1491.6000\n",
       "..          ...       ...         ...         ...         ...        ...\n",
       "900  Product_22  Region_1  141.160000         8.0  2024-06-19  1129.2800\n",
       "926  Product_40  Region_1   39.270000        16.0  2024-07-15   628.3200\n",
       "927   Product_8  Region_1   53.860000         7.0  2024-07-16   377.0200\n",
       "964  Product_22  Region_1   58.480000        13.0  2024-08-22   760.2400\n",
       "967   Product_3  Region_1  103.840000        13.0  2024-08-25  1349.9200\n",
       "\n",
       "[69 rows x 6 columns]>"
      ]
     },
     "execution_count": 187,
     "metadata": {},
     "output_type": "execute_result"
    }
   ],
   "source": [
    "df_region_1 = df[df['Region'] == 'Region_1'] \n",
    "df_region_1.describe\n",
    " #I want to see which product sold most in region_1,but not working."
   ]
  },
  {
   "cell_type": "code",
   "execution_count": 188,
   "metadata": {},
   "outputs": [],
   "source": [
    "import matplotlib.pyplot as plt\n",
    "import seaborn as sns\n"
   ]
  },
  {
   "cell_type": "code",
   "execution_count": 189,
   "metadata": {},
   "outputs": [
    {
     "data": {
      "image/png": "[encoded data removed]",
      "text/plain": [
       "<Figure size 432x288 with 1 Axes>"
      ]
     },
     "metadata": {
      "needs_background": "light"
     },
     "output_type": "display_data"
    }
   ],
   "source": [
    "sns.histplot(data=df_region_1, x='Total')\n",
    "plt.show()\n",
    "#The graph shows people's consumption level but there is an outlier."
   ]
  },
  {
   "cell_type": "code",
   "execution_count": 190,
   "metadata": {},
   "outputs": [
    {
     "data": {
      "text/html": [
       "<div>\n",
       "<style scoped>\n",
       "    .dataframe tbody tr th:only-of-type {\n",
       "        vertical-align: middle;\n",
       "    }\n",
       "\n",
       "    .dataframe tbody tr th {\n",
       "        vertical-align: top;\n",
       "    }\n",
       "\n",
       "    .dataframe thead th {\n",
       "        text-align: right;\n",
       "    }\n",
       "</style>\n",
       "<table border=\"1\" class=\"dataframe\">\n",
       "  <thead>\n",
       "    <tr style=\"text-align: right;\">\n",
       "      <th></th>\n",
       "      <th>Product</th>\n",
       "      <th>Region</th>\n",
       "      <th>Price</th>\n",
       "      <th>Units Sold</th>\n",
       "      <th>Sale Date</th>\n",
       "      <th>Total</th>\n",
       "    </tr>\n",
       "  </thead>\n",
       "  <tbody>\n",
       "    <tr>\n",
       "      <th>160</th>\n",
       "      <td>Product_14</td>\n",
       "      <td>Region_1</td>\n",
       "      <td>469.65</td>\n",
       "      <td>15.0</td>\n",
       "      <td>2022-06-10</td>\n",
       "      <td>7044.75</td>\n",
       "    </tr>\n",
       "    <tr>\n",
       "      <th>687</th>\n",
       "      <td>Product_45</td>\n",
       "      <td>Region_1</td>\n",
       "      <td>289.70</td>\n",
       "      <td>11.0</td>\n",
       "      <td>2023-11-19</td>\n",
       "      <td>3186.70</td>\n",
       "    </tr>\n",
       "  </tbody>\n",
       "</table>\n",
       "</div>"
      ],
      "text/plain": [
       "        Product    Region   Price  Units Sold   Sale Date    Total\n",
       "160  Product_14  Region_1  469.65        15.0  2022-06-10  7044.75\n",
       "687  Product_45  Region_1  289.70        11.0  2023-11-19  3186.70"
      ]
     },
     "execution_count": 190,
     "metadata": {},
     "output_type": "execute_result"
    }
   ],
   "source": [
    "df_region_1[df_region_1['Total']>3000]\n",
    "#check the outlier"
   ]
  },
  {
   "cell_type": "code",
   "execution_count": 191,
   "metadata": {},
   "outputs": [],
   "source": [
    "df1=df_region_1[df_region_1['Total']<2500]\n",
    "#remove outlier"
   ]
  },
  {
   "cell_type": "code",
   "execution_count": 192,
   "metadata": {},
   "outputs": [],
   "source": [
    "Total_units_sold1 = df_region_1.groupby('Product')['Units Sold'].sum().sort_values(ascending=False)\n",
    "#Check how many products sold in region 1"
   ]
  },
  {
   "cell_type": "code",
   "execution_count": 193,
   "metadata": {},
   "outputs": [
    {
     "data": {
      "text/plain": [
       "Product\n",
       "Product_14    36.0\n",
       "Product_12    32.0\n",
       "Product_23    30.0\n",
       "Product_42    29.0\n",
       "Product_10    28.0\n",
       "Name: Units Sold, dtype: float64"
      ]
     },
     "execution_count": 193,
     "metadata": {},
     "output_type": "execute_result"
    }
   ],
   "source": [
    "Total_units_sold1.head(5) \n",
    "#top5 selling products"
   ]
  },
  {
   "cell_type": "code",
   "execution_count": 194,
   "metadata": {},
   "outputs": [
    {
     "data": {
      "text/plain": [
       "Product\n",
       "Product_49    8.0\n",
       "Product_36    7.0\n",
       "Product_5     7.0\n",
       "Product_6     6.0\n",
       "Product_47    2.0\n",
       "Name: Units Sold, dtype: float64"
      ]
     },
     "execution_count": 194,
     "metadata": {},
     "output_type": "execute_result"
    }
   ],
   "source": [
    "Total_units_sold1.tail(5) \n",
    "#worst selling products"
   ]
  },
  {
   "cell_type": "code",
   "execution_count": 195,
   "metadata": {},
   "outputs": [
    {
     "data": {
      "image/png": "[encoded data removed]",
      "text/plain": [
       "<Figure size 432x288 with 1 Axes>"
      ]
     },
     "metadata": {
      "needs_background": "light"
     },
     "output_type": "display_data"
    }
   ],
   "source": [
    "sns.histplot(data=df1, x='Total')\n",
    "plt.show() \n",
    "#without outlier most people spend on products under $1000"
   ]
  },
  {
   "cell_type": "code",
   "execution_count": 196,
   "metadata": {},
   "outputs": [],
   "source": [
    "ttpregion1 = df1.groupby('Product')['Total'].sum().sort_values(ascending=False)\n",
    "#findout each product total sell in region1"
   ]
  },
  {
   "cell_type": "code",
   "execution_count": 197,
   "metadata": {},
   "outputs": [
    {
     "data": {
      "text/plain": [
       "Product\n",
       "Product_10    3234.632333\n",
       "Product_23    2874.836167\n",
       "Product_42    2605.000000\n",
       "Product_39    2550.240000\n",
       "Product_32    2314.148833\n",
       "Name: Total, dtype: float64"
      ]
     },
     "execution_count": 197,
     "metadata": {},
     "output_type": "execute_result"
    }
   ],
   "source": [
    "ttpregion1.head(5) \n",
    "#top 5 most selling products in region 1"
   ]
  },
  {
   "cell_type": "code",
   "execution_count": 198,
   "metadata": {},
   "outputs": [
    {
     "data": {
      "text/plain": [
       "Product\n",
       "Product_14    375.45\n",
       "Product_30    275.60\n",
       "Product_20    258.00\n",
       "Product_26    122.64\n",
       "Product_47     40.24\n",
       "Name: Total, dtype: float64"
      ]
     },
     "execution_count": 198,
     "metadata": {},
     "output_type": "execute_result"
    }
   ],
   "source": [
    "ttpregion1.tail(5) \n",
    "#worst sell products in region 1, tookout product_14 $7000 as outlier."
   ]
  },
  {
   "cell_type": "code",
   "execution_count": 199,
   "metadata": {},
   "outputs": [],
   "source": [
    "df_region_2 = df[df['Region'] == 'Region_2'] \n",
    "#repeat the steps from region2-10"
   ]
  },
  {
   "cell_type": "code",
   "execution_count": 200,
   "metadata": {},
   "outputs": [
    {
     "data": {
      "image/png": "[encoded data removed]",
      "text/plain": [
       "<Figure size 432x288 with 1 Axes>"
      ]
     },
     "metadata": {
      "needs_background": "light"
     },
     "output_type": "display_data"
    }
   ],
   "source": [
    "sns.histplot(data=df_region_2, x='Total')\n",
    "plt.show()"
   ]
  },
  {
   "cell_type": "code",
   "execution_count": 201,
   "metadata": {},
   "outputs": [
    {
     "data": {
      "text/html": [
       "<div>\n",
       "<style scoped>\n",
       "    .dataframe tbody tr th:only-of-type {\n",
       "        vertical-align: middle;\n",
       "    }\n",
       "\n",
       "    .dataframe tbody tr th {\n",
       "        vertical-align: top;\n",
       "    }\n",
       "\n",
       "    .dataframe thead th {\n",
       "        text-align: right;\n",
       "    }\n",
       "</style>\n",
       "<table border=\"1\" class=\"dataframe\">\n",
       "  <thead>\n",
       "    <tr style=\"text-align: right;\">\n",
       "      <th></th>\n",
       "      <th>Product</th>\n",
       "      <th>Region</th>\n",
       "      <th>Price</th>\n",
       "      <th>Units Sold</th>\n",
       "      <th>Sale Date</th>\n",
       "      <th>Total</th>\n",
       "    </tr>\n",
       "  </thead>\n",
       "  <tbody>\n",
       "    <tr>\n",
       "      <th>421</th>\n",
       "      <td>Product_34</td>\n",
       "      <td>Region_2</td>\n",
       "      <td>2636.9</td>\n",
       "      <td>14.0</td>\n",
       "      <td>2023-02-26</td>\n",
       "      <td>36916.6</td>\n",
       "    </tr>\n",
       "  </tbody>\n",
       "</table>\n",
       "</div>"
      ],
      "text/plain": [
       "        Product    Region   Price  Units Sold   Sale Date    Total\n",
       "421  Product_34  Region_2  2636.9        14.0  2023-02-26  36916.6"
      ]
     },
     "execution_count": 201,
     "metadata": {},
     "output_type": "execute_result"
    }
   ],
   "source": [
    "df_region_2[df_region_2['Total']>5000]"
   ]
  },
  {
   "cell_type": "code",
   "execution_count": 202,
   "metadata": {},
   "outputs": [],
   "source": [
    "df2=df_region_2[df_region_2['Total']<5000]"
   ]
  },
  {
   "cell_type": "code",
   "execution_count": 203,
   "metadata": {},
   "outputs": [
    {
     "data": {
      "image/png": "[encoded data removed]",
      "text/plain": [
       "<Figure size 432x288 with 1 Axes>"
      ]
     },
     "metadata": {
      "needs_background": "light"
     },
     "output_type": "display_data"
    }
   ],
   "source": [
    "sns.histplot(data=df2, x='Total')\n",
    "plt.show() #people purchase product mostly under $500"
   ]
  },
  {
   "cell_type": "code",
   "execution_count": 204,
   "metadata": {},
   "outputs": [],
   "source": [
    "ttpregion2 = df2.groupby('Product')['Total'].sum().sort_values(ascending=False)"
   ]
  },
  {
   "cell_type": "code",
   "execution_count": 205,
   "metadata": {},
   "outputs": [
    {
     "data": {
      "text/plain": [
       "Product\n",
       "Product_48    6672.044348\n",
       "Product_49    5179.684058\n",
       "Product_22    4907.820000\n",
       "Product_50    4523.850000\n",
       "Product_27    4502.240000\n",
       "Name: Total, dtype: float64"
      ]
     },
     "execution_count": 205,
     "metadata": {},
     "output_type": "execute_result"
    }
   ],
   "source": [
    "ttpregion2.head(5)"
   ]
  },
  {
   "cell_type": "code",
   "execution_count": 206,
   "metadata": {},
   "outputs": [
    {
     "data": {
      "text/plain": [
       "Product\n",
       "Product_44    195.12\n",
       "Product_16    112.80\n",
       "Product_1      80.28\n",
       "Product_25     71.40\n",
       "Product_20     54.54\n",
       "Name: Total, dtype: float64"
      ]
     },
     "execution_count": 206,
     "metadata": {},
     "output_type": "execute_result"
    }
   ],
   "source": [
    "ttpregion2.tail(5)"
   ]
  },
  {
   "cell_type": "code",
   "execution_count": 207,
   "metadata": {},
   "outputs": [],
   "source": [
    "Total_units_sold2 = df_region_2.groupby('Product')['Units Sold'].sum().sort_values(ascending=False)\n"
   ]
  },
  {
   "cell_type": "code",
   "execution_count": 208,
   "metadata": {},
   "outputs": [
    {
     "data": {
      "text/plain": [
       "Product\n",
       "Product_49    74.0\n",
       "Product_48    60.0\n",
       "Product_23    29.0\n",
       "Product_10    28.0\n",
       "Product_40    25.0\n",
       "Name: Units Sold, dtype: float64"
      ]
     },
     "execution_count": 208,
     "metadata": {},
     "output_type": "execute_result"
    }
   ],
   "source": [
    "Total_units_sold2.head(5)"
   ]
  },
  {
   "cell_type": "code",
   "execution_count": 209,
   "metadata": {},
   "outputs": [
    {
     "data": {
      "text/plain": [
       "Product\n",
       "Product_44    8.0\n",
       "Product_36    7.0\n",
       "Product_25    7.0\n",
       "Product_20    6.0\n",
       "Product_1     6.0\n",
       "Name: Units Sold, dtype: float64"
      ]
     },
     "execution_count": 209,
     "metadata": {},
     "output_type": "execute_result"
    }
   ],
   "source": [
    "Total_units_sold2.tail(5)"
   ]
  },
  {
   "cell_type": "code",
   "execution_count": 210,
   "metadata": {},
   "outputs": [],
   "source": [
    "df_region_3 = df[df['Region'] == 'Region_3']"
   ]
  },
  {
   "cell_type": "code",
   "execution_count": 211,
   "metadata": {},
   "outputs": [
    {
     "data": {
      "image/png": "[encoded data removed]",
      "text/plain": [
       "<Figure size 432x288 with 1 Axes>"
      ]
     },
     "metadata": {
      "needs_background": "light"
     },
     "output_type": "display_data"
    }
   ],
   "source": [
    "sns.histplot(data=df_region_3, x='Total')\n",
    "plt.show()"
   ]
  },
  {
   "cell_type": "code",
   "execution_count": 212,
   "metadata": {},
   "outputs": [
    {
     "data": {
      "text/html": [
       "<div>\n",
       "<style scoped>\n",
       "    .dataframe tbody tr th:only-of-type {\n",
       "        vertical-align: middle;\n",
       "    }\n",
       "\n",
       "    .dataframe tbody tr th {\n",
       "        vertical-align: top;\n",
       "    }\n",
       "\n",
       "    .dataframe thead th {\n",
       "        text-align: right;\n",
       "    }\n",
       "</style>\n",
       "<table border=\"1\" class=\"dataframe\">\n",
       "  <thead>\n",
       "    <tr style=\"text-align: right;\">\n",
       "      <th></th>\n",
       "      <th>Product</th>\n",
       "      <th>Region</th>\n",
       "      <th>Price</th>\n",
       "      <th>Units Sold</th>\n",
       "      <th>Sale Date</th>\n",
       "      <th>Total</th>\n",
       "    </tr>\n",
       "  </thead>\n",
       "  <tbody>\n",
       "    <tr>\n",
       "      <th>116</th>\n",
       "      <td>Product_46</td>\n",
       "      <td>Region_3</td>\n",
       "      <td>485.84</td>\n",
       "      <td>8.0</td>\n",
       "      <td>2022-04-27</td>\n",
       "      <td>3886.72</td>\n",
       "    </tr>\n",
       "    <tr>\n",
       "      <th>166</th>\n",
       "      <td>Product_2</td>\n",
       "      <td>Region_3</td>\n",
       "      <td>211.85</td>\n",
       "      <td>12.0</td>\n",
       "      <td>2022-06-16</td>\n",
       "      <td>2542.20</td>\n",
       "    </tr>\n",
       "    <tr>\n",
       "      <th>293</th>\n",
       "      <td>Product_37</td>\n",
       "      <td>Region_3</td>\n",
       "      <td>344.45</td>\n",
       "      <td>8.0</td>\n",
       "      <td>2022-10-21</td>\n",
       "      <td>2755.60</td>\n",
       "    </tr>\n",
       "    <tr>\n",
       "      <th>370</th>\n",
       "      <td>Product_41</td>\n",
       "      <td>Region_3</td>\n",
       "      <td>204.58</td>\n",
       "      <td>14.0</td>\n",
       "      <td>2023-01-06</td>\n",
       "      <td>2864.12</td>\n",
       "    </tr>\n",
       "    <tr>\n",
       "      <th>423</th>\n",
       "      <td>Product_40</td>\n",
       "      <td>Region_3</td>\n",
       "      <td>365.73</td>\n",
       "      <td>13.0</td>\n",
       "      <td>2023-02-28</td>\n",
       "      <td>4754.49</td>\n",
       "    </tr>\n",
       "    <tr>\n",
       "      <th>703</th>\n",
       "      <td>Product_41</td>\n",
       "      <td>Region_3</td>\n",
       "      <td>116.51</td>\n",
       "      <td>18.0</td>\n",
       "      <td>2023-12-05</td>\n",
       "      <td>2097.18</td>\n",
       "    </tr>\n",
       "    <tr>\n",
       "      <th>780</th>\n",
       "      <td>Product_49</td>\n",
       "      <td>Region_3</td>\n",
       "      <td>204.44</td>\n",
       "      <td>11.0</td>\n",
       "      <td>2024-02-20</td>\n",
       "      <td>2248.84</td>\n",
       "    </tr>\n",
       "  </tbody>\n",
       "</table>\n",
       "</div>"
      ],
      "text/plain": [
       "        Product    Region   Price  Units Sold   Sale Date    Total\n",
       "116  Product_46  Region_3  485.84         8.0  2022-04-27  3886.72\n",
       "166   Product_2  Region_3  211.85        12.0  2022-06-16  2542.20\n",
       "293  Product_37  Region_3  344.45         8.0  2022-10-21  2755.60\n",
       "370  Product_41  Region_3  204.58        14.0  2023-01-06  2864.12\n",
       "423  Product_40  Region_3  365.73        13.0  2023-02-28  4754.49\n",
       "703  Product_41  Region_3  116.51        18.0  2023-12-05  2097.18\n",
       "780  Product_49  Region_3  204.44        11.0  2024-02-20  2248.84"
      ]
     },
     "execution_count": 212,
     "metadata": {},
     "output_type": "execute_result"
    }
   ],
   "source": [
    "df_region_3[df_region_3['Total']>2000]"
   ]
  },
  {
   "cell_type": "code",
   "execution_count": 213,
   "metadata": {},
   "outputs": [],
   "source": [
    "df3=df_region_3[df_region_3['Total']<2000]"
   ]
  },
  {
   "cell_type": "code",
   "execution_count": 214,
   "metadata": {},
   "outputs": [
    {
     "data": {
      "image/png": "[encoded data removed]",
      "text/plain": [
       "<Figure size 432x288 with 1 Axes>"
      ]
     },
     "metadata": {
      "needs_background": "light"
     },
     "output_type": "display_data"
    }
   ],
   "source": [
    "sns.histplot(data=df3, x='Total')\n",
    "plt.show()"
   ]
  },
  {
   "cell_type": "code",
   "execution_count": 215,
   "metadata": {},
   "outputs": [],
   "source": [
    "ttpregion3 = df3.groupby('Product')['Total'].sum().sort_values(ascending=False)"
   ]
  },
  {
   "cell_type": "code",
   "execution_count": 216,
   "metadata": {},
   "outputs": [
    {
     "data": {
      "text/plain": [
       "Product\n",
       "Product_4     3522.230000\n",
       "Product_8     2909.640000\n",
       "Product_24    2232.450000\n",
       "Product_1     2062.409474\n",
       "Product_26    1969.842632\n",
       "Name: Total, dtype: float64"
      ]
     },
     "execution_count": 216,
     "metadata": {},
     "output_type": "execute_result"
    }
   ],
   "source": [
    "ttpregion3.head(5)"
   ]
  },
  {
   "cell_type": "code",
   "execution_count": 217,
   "metadata": {},
   "outputs": [
    {
     "data": {
      "text/plain": [
       "Product\n",
       "Product_44    255.10\n",
       "Product_25    180.10\n",
       "Product_42    167.67\n",
       "Product_38    142.60\n",
       "Product_27     96.36\n",
       "Name: Total, dtype: float64"
      ]
     },
     "execution_count": 217,
     "metadata": {},
     "output_type": "execute_result"
    }
   ],
   "source": [
    "ttpregion3.tail(5)"
   ]
  },
  {
   "cell_type": "code",
   "execution_count": 218,
   "metadata": {},
   "outputs": [],
   "source": [
    "Total_units_sold3 = df_region_3.groupby('Product')['Units Sold'].sum().sort_values(ascending=False)\n"
   ]
  },
  {
   "cell_type": "code",
   "execution_count": 219,
   "metadata": {},
   "outputs": [
    {
     "data": {
      "text/plain": [
       "Product\n",
       "Product_41    45.0\n",
       "Product_9     41.0\n",
       "Product_26    40.0\n",
       "Product_4     35.0\n",
       "Product_37    34.0\n",
       "Name: Units Sold, dtype: float64"
      ]
     },
     "execution_count": 219,
     "metadata": {},
     "output_type": "execute_result"
    }
   ],
   "source": [
    "Total_units_sold3.head(5)"
   ]
  },
  {
   "cell_type": "code",
   "execution_count": 220,
   "metadata": {},
   "outputs": [
    {
     "data": {
      "text/plain": [
       "Product\n",
       "Product_29    8.0\n",
       "Product_32    7.0\n",
       "Product_17    6.0\n",
       "Product_25    5.0\n",
       "Product_27    4.0\n",
       "Name: Units Sold, dtype: float64"
      ]
     },
     "execution_count": 220,
     "metadata": {},
     "output_type": "execute_result"
    }
   ],
   "source": [
    "Total_units_sold3.tail(5)"
   ]
  },
  {
   "cell_type": "code",
   "execution_count": 221,
   "metadata": {},
   "outputs": [
    {
     "data": {
      "image/png": "[encoded data removed]",
      "text/plain": [
       "<Figure size 432x288 with 1 Axes>"
      ]
     },
     "metadata": {
      "needs_background": "light"
     },
     "output_type": "display_data"
    }
   ],
   "source": [
    "df_region_4 = df[df['Region'] == 'Region_4']\n",
    "sns.histplot(data=df_region_4, x='Total')\n",
    "plt.show()"
   ]
  },
  {
   "cell_type": "code",
   "execution_count": 222,
   "metadata": {},
   "outputs": [
    {
     "data": {
      "image/png": "[encoded data removed]",
      "text/plain": [
       "<Figure size 432x288 with 1 Axes>"
      ]
     },
     "metadata": {
      "needs_background": "light"
     },
     "output_type": "display_data"
    }
   ],
   "source": [
    "df_region_4[df_region_4['Total']>2000]\n",
    "df4=df_region_4[df_region_4['Total']<2000]\n",
    "sns.histplot(data=df4, x='Total')\n",
    "plt.show()"
   ]
  },
  {
   "cell_type": "code",
   "execution_count": 223,
   "metadata": {},
   "outputs": [
    {
     "data": {
      "text/plain": [
       "Product\n",
       "Product_45    4101.180345\n",
       "Product_50    2842.150000\n",
       "Product_42    2302.470000\n",
       "Product_19    2061.920690\n",
       "Product_8     2001.363103\n",
       "Name: Total, dtype: float64"
      ]
     },
     "execution_count": 223,
     "metadata": {},
     "output_type": "execute_result"
    }
   ],
   "source": [
    "ttpregion4 = df4.groupby('Product')['Total'].sum().sort_values(ascending=False)\n",
    "ttpregion4.head(5)"
   ]
  },
  {
   "cell_type": "code",
   "execution_count": 224,
   "metadata": {},
   "outputs": [
    {
     "data": {
      "text/plain": [
       "Product\n",
       "Product_24    116.48\n",
       "Product_3     110.11\n",
       "Product_22    106.26\n",
       "Product_1      71.73\n",
       "Product_12     57.63\n",
       "Name: Total, dtype: float64"
      ]
     },
     "execution_count": 224,
     "metadata": {},
     "output_type": "execute_result"
    }
   ],
   "source": [
    "ttpregion4.tail(5)"
   ]
  },
  {
   "cell_type": "code",
   "execution_count": 225,
   "metadata": {},
   "outputs": [
    {
     "data": {
      "text/plain": [
       "Product\n",
       "Product_45    55.0\n",
       "Product_36    39.0\n",
       "Product_42    38.0\n",
       "Product_19    38.0\n",
       "Product_26    34.0\n",
       "Name: Units Sold, dtype: float64"
      ]
     },
     "execution_count": 225,
     "metadata": {},
     "output_type": "execute_result"
    }
   ],
   "source": [
    "Total_units_sold4 = df_region_4.groupby('Product')['Units Sold'].sum().sort_values(ascending=False)\n",
    "Total_units_sold4.head(5)"
   ]
  },
  {
   "cell_type": "code",
   "execution_count": 226,
   "metadata": {},
   "outputs": [
    {
     "data": {
      "text/plain": [
       "Product\n",
       "Product_6     7.0\n",
       "Product_24    7.0\n",
       "Product_23    6.0\n",
       "Product_48    6.0\n",
       "Product_43    5.0\n",
       "Name: Units Sold, dtype: float64"
      ]
     },
     "execution_count": 226,
     "metadata": {},
     "output_type": "execute_result"
    }
   ],
   "source": [
    "Total_units_sold4.tail(5)"
   ]
  },
  {
   "cell_type": "code",
   "execution_count": 227,
   "metadata": {},
   "outputs": [
    {
     "data": {
      "image/png": "[encoded data removed]",
      "text/plain": [
       "<Figure size 432x288 with 1 Axes>"
      ]
     },
     "metadata": {
      "needs_background": "light"
     },
     "output_type": "display_data"
    }
   ],
   "source": [
    "df_region_5 = df[df['Region'] == 'Region_5']\n",
    "sns.histplot(data=df_region_5, x='Total')\n",
    "plt.show()"
   ]
  },
  {
   "cell_type": "code",
   "execution_count": 228,
   "metadata": {},
   "outputs": [
    {
     "data": {
      "image/png": "[encoded data removed]",
      "text/plain": [
       "<Figure size 432x288 with 1 Axes>"
      ]
     },
     "metadata": {
      "needs_background": "light"
     },
     "output_type": "display_data"
    }
   ],
   "source": [
    "df_region_5[df_region_5['Total']>1000]\n",
    "df5=df_region_5[df_region_5['Total']<1000]\n",
    "sns.histplot(data=df5, x='Total')\n",
    "plt.show()"
   ]
  },
  {
   "cell_type": "code",
   "execution_count": 229,
   "metadata": {},
   "outputs": [
    {
     "data": {
      "text/plain": [
       "Product\n",
       "Product_8     1941.561687\n",
       "Product_47    1614.530000\n",
       "Product_40    1459.080000\n",
       "Product_24    1442.980000\n",
       "Product_28    1246.620000\n",
       "Name: Total, dtype: float64"
      ]
     },
     "execution_count": 229,
     "metadata": {},
     "output_type": "execute_result"
    }
   ],
   "source": [
    "ttpregion5 = df5.groupby('Product')['Total'].sum().sort_values(ascending=False)\n",
    "ttpregion5.head(5)"
   ]
  },
  {
   "cell_type": "code",
   "execution_count": 230,
   "metadata": {},
   "outputs": [
    {
     "data": {
      "text/plain": [
       "Product\n",
       "Product_34    201.67\n",
       "Product_30    164.90\n",
       "Product_23    157.26\n",
       "Product_9      75.54\n",
       "Product_32     38.16\n",
       "Name: Total, dtype: float64"
      ]
     },
     "execution_count": 230,
     "metadata": {},
     "output_type": "execute_result"
    }
   ],
   "source": [
    "ttpregion5.tail(5)"
   ]
  },
  {
   "cell_type": "code",
   "execution_count": 231,
   "metadata": {},
   "outputs": [
    {
     "data": {
      "text/plain": [
       "Product\n",
       "Product_8     53.0\n",
       "Product_24    47.0\n",
       "Product_25    38.0\n",
       "Product_4     34.0\n",
       "Product_32    32.0\n",
       "Name: Units Sold, dtype: float64"
      ]
     },
     "execution_count": 231,
     "metadata": {},
     "output_type": "execute_result"
    }
   ],
   "source": [
    "Total_units_sold5 = df_region_5.groupby('Product')['Units Sold'].sum().sort_values(ascending=False)\n",
    "Total_units_sold5.head(5)"
   ]
  },
  {
   "cell_type": "code",
   "execution_count": 232,
   "metadata": {},
   "outputs": [
    {
     "data": {
      "text/plain": [
       "Product\n",
       "Product_20    7.0\n",
       "Product_6     7.0\n",
       "Product_15    5.0\n",
       "Product_12    5.0\n",
       "Product_10    4.0\n",
       "Name: Units Sold, dtype: float64"
      ]
     },
     "execution_count": 232,
     "metadata": {},
     "output_type": "execute_result"
    }
   ],
   "source": [
    "Total_units_sold5.tail(5)"
   ]
  },
  {
   "cell_type": "code",
   "execution_count": 233,
   "metadata": {},
   "outputs": [
    {
     "data": {
      "image/png": "[encoded data removed]",
      "text/plain": [
       "<Figure size 432x288 with 1 Axes>"
      ]
     },
     "metadata": {
      "needs_background": "light"
     },
     "output_type": "display_data"
    }
   ],
   "source": [
    "df_region_6 = df[df['Region'] == 'Region_6']\n",
    "sns.histplot(data=df_region_6, x='Total')\n",
    "plt.show()"
   ]
  },
  {
   "cell_type": "code",
   "execution_count": 234,
   "metadata": {},
   "outputs": [
    {
     "data": {
      "image/png": "[encoded data removed]",
      "text/plain": [
       "<Figure size 432x288 with 1 Axes>"
      ]
     },
     "metadata": {
      "needs_background": "light"
     },
     "output_type": "display_data"
    }
   ],
   "source": [
    "df_region_6[df_region_6['Total']>1000]\n",
    "df6=df_region_6[df_region_6['Total']<1000]\n",
    "sns.histplot(data=df6, x='Total')\n",
    "plt.show()"
   ]
  },
  {
   "cell_type": "code",
   "execution_count": 235,
   "metadata": {},
   "outputs": [
    {
     "data": {
      "text/plain": [
       "Product\n",
       "Product_7     2274.620000\n",
       "Product_40    1660.100000\n",
       "Product_1     1381.820000\n",
       "Product_30    1377.671034\n",
       "Product_4     1100.060000\n",
       "Name: Total, dtype: float64"
      ]
     },
     "execution_count": 235,
     "metadata": {},
     "output_type": "execute_result"
    }
   ],
   "source": [
    "ttpregion6 = df6.groupby('Product')['Total'].sum().sort_values(ascending=False)\n",
    "ttpregion6.head(5)"
   ]
  },
  {
   "cell_type": "code",
   "execution_count": 236,
   "metadata": {},
   "outputs": [
    {
     "data": {
      "text/plain": [
       "Product\n",
       "Product_48    237.78\n",
       "Product_12    214.69\n",
       "Product_31    211.05\n",
       "Product_16     49.72\n",
       "Product_46      4.26\n",
       "Name: Total, dtype: float64"
      ]
     },
     "execution_count": 236,
     "metadata": {},
     "output_type": "execute_result"
    }
   ],
   "source": [
    "ttpregion6.tail(5)"
   ]
  },
  {
   "cell_type": "code",
   "execution_count": 237,
   "metadata": {},
   "outputs": [
    {
     "data": {
      "text/plain": [
       "Product\n",
       "Product_7     43.0\n",
       "Product_20    39.0\n",
       "Product_2     30.0\n",
       "Product_37    28.0\n",
       "Product_17    27.0\n",
       "Name: Units Sold, dtype: float64"
      ]
     },
     "execution_count": 237,
     "metadata": {},
     "output_type": "execute_result"
    }
   ],
   "source": [
    "Total_units_sold6 = df_region_6.groupby('Product')['Units Sold'].sum().sort_values(ascending=False)\n",
    "Total_units_sold6.head(5)"
   ]
  },
  {
   "cell_type": "code",
   "execution_count": 238,
   "metadata": {},
   "outputs": [
    {
     "data": {
      "text/plain": [
       "Product\n",
       "Product_48    9.0\n",
       "Product_31    9.0\n",
       "Product_50    7.0\n",
       "Product_46    6.0\n",
       "Product_44    5.0\n",
       "Name: Units Sold, dtype: float64"
      ]
     },
     "execution_count": 238,
     "metadata": {},
     "output_type": "execute_result"
    }
   ],
   "source": [
    "Total_units_sold6.tail(5)"
   ]
  },
  {
   "cell_type": "code",
   "execution_count": 239,
   "metadata": {},
   "outputs": [
    {
     "data": {
      "image/png": "[encoded data removed]",
      "text/plain": [
       "<Figure size 432x288 with 1 Axes>"
      ]
     },
     "metadata": {
      "needs_background": "light"
     },
     "output_type": "display_data"
    }
   ],
   "source": [
    "df_region_7 = df[df['Region'] == 'Region_7']\n",
    "sns.histplot(data=df_region_7, x='Total')\n",
    "plt.show()"
   ]
  },
  {
   "cell_type": "code",
   "execution_count": 271,
   "metadata": {},
   "outputs": [
    {
     "data": {
      "image/png": "[encoded data removed]",
      "text/plain": [
       "<Figure size 432x288 with 1 Axes>"
      ]
     },
     "metadata": {
      "needs_background": "light"
     },
     "output_type": "display_data"
    }
   ],
   "source": [
    "df_region_7[df_region_7['Total']>4000]\n",
    "df7=df_region_7[df_region_7['Total']<2000]\n",
    "sns.histplot(data=df7, x='Total')\n",
    "plt.show()"
   ]
  },
  {
   "cell_type": "code",
   "execution_count": 249,
   "metadata": {},
   "outputs": [
    {
     "data": {
      "text/plain": [
       "Product\n",
       "Product_45    4533.04\n",
       "Product_23    4084.82\n",
       "Product_24    4040.92\n",
       "Product_46    4018.10\n",
       "Product_36    3816.95\n",
       "Name: Total, dtype: float64"
      ]
     },
     "execution_count": 249,
     "metadata": {},
     "output_type": "execute_result"
    }
   ],
   "source": [
    "ttpregion7 = df7.groupby('Product')['Total'].sum().sort_values(ascending=False)\n",
    "ttpregion7.head(5)"
   ]
  },
  {
   "cell_type": "code",
   "execution_count": 250,
   "metadata": {},
   "outputs": [
    {
     "data": {
      "text/plain": [
       "Product\n",
       "Product_25    210.28\n",
       "Product_7     204.80\n",
       "Product_47    161.52\n",
       "Product_16     67.90\n",
       "Product_27     15.68\n",
       "Name: Total, dtype: float64"
      ]
     },
     "execution_count": 250,
     "metadata": {},
     "output_type": "execute_result"
    }
   ],
   "source": [
    "ttpregion7.tail(5)"
   ]
  },
  {
   "cell_type": "code",
   "execution_count": 251,
   "metadata": {},
   "outputs": [
    {
     "data": {
      "text/plain": [
       "Product\n",
       "Product_24    60.0\n",
       "Product_3     55.0\n",
       "Product_46    43.0\n",
       "Product_4     37.0\n",
       "Product_21    33.0\n",
       "Name: Units Sold, dtype: float64"
      ]
     },
     "execution_count": 251,
     "metadata": {},
     "output_type": "execute_result"
    }
   ],
   "source": [
    "Total_units_sold7 = df_region_7.groupby('Product')['Units Sold'].sum().sort_values(ascending=False)\n",
    "Total_units_sold7.head(5)"
   ]
  },
  {
   "cell_type": "code",
   "execution_count": 252,
   "metadata": {},
   "outputs": [
    {
     "data": {
      "text/plain": [
       "Product\n",
       "Product_49    9.0\n",
       "Product_6     8.0\n",
       "Product_7     8.0\n",
       "Product_25    7.0\n",
       "Product_9     5.0\n",
       "Name: Units Sold, dtype: float64"
      ]
     },
     "execution_count": 252,
     "metadata": {},
     "output_type": "execute_result"
    }
   ],
   "source": [
    "Total_units_sold7.tail(5)"
   ]
  },
  {
   "cell_type": "code",
   "execution_count": 253,
   "metadata": {},
   "outputs": [
    {
     "data": {
      "image/png": "[encoded data removed]",
      "text/plain": [
       "<Figure size 432x288 with 1 Axes>"
      ]
     },
     "metadata": {
      "needs_background": "light"
     },
     "output_type": "display_data"
    }
   ],
   "source": [
    "df_region_8 = df[df['Region'] == 'Region_8']\n",
    "sns.histplot(data=df_region_8, x='Total')\n",
    "plt.show()"
   ]
  },
  {
   "cell_type": "code",
   "execution_count": 254,
   "metadata": {},
   "outputs": [
    {
     "data": {
      "image/png": "[encoded data removed]",
      "text/plain": [
       "<Figure size 432x288 with 1 Axes>"
      ]
     },
     "metadata": {
      "needs_background": "light"
     },
     "output_type": "display_data"
    }
   ],
   "source": [
    "df_region_8[df_region_8['Total']>5000]\n",
    "df8=df_region_8[df_region_8['Total']<2500]\n",
    "sns.histplot(data=df8, x='Total')\n",
    "plt.show()"
   ]
  },
  {
   "cell_type": "code",
   "execution_count": 255,
   "metadata": {},
   "outputs": [
    {
     "data": {
      "text/plain": [
       "Product\n",
       "Product_6     4092.750000\n",
       "Product_17    4070.800000\n",
       "Product_10    3885.779242\n",
       "Product_32    3110.770000\n",
       "Product_43    2889.480000\n",
       "Name: Total, dtype: float64"
      ]
     },
     "execution_count": 255,
     "metadata": {},
     "output_type": "execute_result"
    }
   ],
   "source": [
    "ttpregion8 = df8.groupby('Product')['Total'].sum().sort_values(ascending=False)\n",
    "ttpregion8.head(5)"
   ]
  },
  {
   "cell_type": "code",
   "execution_count": 256,
   "metadata": {},
   "outputs": [
    {
     "data": {
      "text/plain": [
       "Product\n",
       "Product_40    470.76\n",
       "Product_27    389.84\n",
       "Product_8     376.42\n",
       "Product_38    336.60\n",
       "Product_20     76.40\n",
       "Name: Total, dtype: float64"
      ]
     },
     "execution_count": 256,
     "metadata": {},
     "output_type": "execute_result"
    }
   ],
   "source": [
    "ttpregion8.tail(5)"
   ]
  },
  {
   "cell_type": "code",
   "execution_count": 257,
   "metadata": {},
   "outputs": [
    {
     "data": {
      "text/plain": [
       "Product\n",
       "Product_10    45.0\n",
       "Product_32    41.0\n",
       "Product_6     36.0\n",
       "Product_15    34.0\n",
       "Product_23    34.0\n",
       "Name: Units Sold, dtype: float64"
      ]
     },
     "execution_count": 257,
     "metadata": {},
     "output_type": "execute_result"
    }
   ],
   "source": [
    "Total_units_sold8 = df_region_8.groupby('Product')['Units Sold'].sum().sort_values(ascending=False)\n",
    "Total_units_sold8.head(5)"
   ]
  },
  {
   "cell_type": "code",
   "execution_count": 258,
   "metadata": {},
   "outputs": [
    {
     "data": {
      "text/plain": [
       "Product\n",
       "Product_3     9.0\n",
       "Product_4     9.0\n",
       "Product_22    8.0\n",
       "Product_20    8.0\n",
       "Product_38    5.0\n",
       "Name: Units Sold, dtype: float64"
      ]
     },
     "execution_count": 258,
     "metadata": {},
     "output_type": "execute_result"
    }
   ],
   "source": [
    "Total_units_sold8.tail(5)"
   ]
  },
  {
   "cell_type": "code",
   "execution_count": 259,
   "metadata": {},
   "outputs": [
    {
     "data": {
      "image/png": "[encoded data removed]",
      "text/plain": [
       "<Figure size 432x288 with 1 Axes>"
      ]
     },
     "metadata": {
      "needs_background": "light"
     },
     "output_type": "display_data"
    }
   ],
   "source": [
    "df_region_9 = df[df['Region'] == 'Region_9']\n",
    "sns.histplot(data=df_region_9, x='Total')\n",
    "plt.show()"
   ]
  },
  {
   "cell_type": "code",
   "execution_count": 260,
   "metadata": {},
   "outputs": [
    {
     "data": {
      "image/png": "[encoded data removed]",
      "text/plain": [
       "<Figure size 432x288 with 1 Axes>"
      ]
     },
     "metadata": {
      "needs_background": "light"
     },
     "output_type": "display_data"
    }
   ],
   "source": [
    "df_region_9[df_region_9['Total']>2500]\n",
    "df9=df_region_9[df_region_9['Total']<1500]\n",
    "sns.histplot(data=df9, x='Total')\n",
    "plt.show()"
   ]
  },
  {
   "cell_type": "code",
   "execution_count": 261,
   "metadata": {},
   "outputs": [
    {
     "data": {
      "text/plain": [
       "Product\n",
       "Product_33    3574.450000\n",
       "Product_13    3059.610000\n",
       "Product_45    2606.348571\n",
       "Product_21    2400.910000\n",
       "Product_4     2303.250000\n",
       "Name: Total, dtype: float64"
      ]
     },
     "execution_count": 261,
     "metadata": {},
     "output_type": "execute_result"
    }
   ],
   "source": [
    "ttpregion9 = df9.groupby('Product')['Total'].sum().sort_values(ascending=False)\n",
    "ttpregion9.head(5)"
   ]
  },
  {
   "cell_type": "code",
   "execution_count": 262,
   "metadata": {},
   "outputs": [
    {
     "data": {
      "text/plain": [
       "Product\n",
       "Product_37    233.50\n",
       "Product_28    160.60\n",
       "Product_25     25.48\n",
       "Product_8       4.86\n",
       "Product_36      2.97\n",
       "Name: Total, dtype: float64"
      ]
     },
     "execution_count": 262,
     "metadata": {},
     "output_type": "execute_result"
    }
   ],
   "source": [
    "ttpregion9.tail(5)"
   ]
  },
  {
   "cell_type": "code",
   "execution_count": 263,
   "metadata": {},
   "outputs": [
    {
     "data": {
      "text/plain": [
       "Product\n",
       "Product_10    37.0\n",
       "Product_13    36.0\n",
       "Product_24    35.0\n",
       "Product_38    35.0\n",
       "Product_33    35.0\n",
       "Name: Units Sold, dtype: float64"
      ]
     },
     "execution_count": 263,
     "metadata": {},
     "output_type": "execute_result"
    }
   ],
   "source": [
    "Total_units_sold9 = df_region_9.groupby('Product')['Units Sold'].sum().sort_values(ascending=False)\n",
    "Total_units_sold9.head(5)"
   ]
  },
  {
   "cell_type": "code",
   "execution_count": 264,
   "metadata": {},
   "outputs": [
    {
     "data": {
      "text/plain": [
       "Product\n",
       "Product_17    7.0\n",
       "Product_3     7.0\n",
       "Product_34    6.0\n",
       "Product_8     6.0\n",
       "Product_16    6.0\n",
       "Name: Units Sold, dtype: float64"
      ]
     },
     "execution_count": 264,
     "metadata": {},
     "output_type": "execute_result"
    }
   ],
   "source": [
    "Total_units_sold9.tail(5)"
   ]
  },
  {
   "cell_type": "code",
   "execution_count": 265,
   "metadata": {},
   "outputs": [
    {
     "data": {
      "image/png": "[encoded data removed]",
      "text/plain": [
       "<Figure size 432x288 with 1 Axes>"
      ]
     },
     "metadata": {
      "needs_background": "light"
     },
     "output_type": "display_data"
    }
   ],
   "source": [
    "df_region_10 = df[df['Region'] == 'Region_10']\n",
    "sns.histplot(data=df_region_10, x='Total')\n",
    "plt.show()"
   ]
  },
  {
   "cell_type": "code",
   "execution_count": 266,
   "metadata": {},
   "outputs": [
    {
     "data": {
      "image/png": "[encoded data removed]",
      "text/plain": [
       "<Figure size 432x288 with 1 Axes>"
      ]
     },
     "metadata": {
      "needs_background": "light"
     },
     "output_type": "display_data"
    }
   ],
   "source": [
    "df_region_10[df_region_10['Total']>45000]\n",
    "df10=df_region_10[df_region_10['Total']<2000]\n",
    "sns.histplot(data=df10, x='Total')\n",
    "plt.show()"
   ]
  },
  {
   "cell_type": "code",
   "execution_count": 267,
   "metadata": {},
   "outputs": [
    {
     "data": {
      "text/plain": [
       "Product\n",
       "Product_49    4352.411791\n",
       "Product_4     3364.067313\n",
       "Product_12    2919.950000\n",
       "Product_25    2805.349552\n",
       "Product_11    2794.250000\n",
       "Name: Total, dtype: float64"
      ]
     },
     "execution_count": 267,
     "metadata": {},
     "output_type": "execute_result"
    }
   ],
   "source": [
    "ttpregion10 = df10.groupby('Product')['Total'].sum().sort_values(ascending=False)\n",
    "ttpregion10.head(5)"
   ]
  },
  {
   "cell_type": "code",
   "execution_count": 268,
   "metadata": {},
   "outputs": [
    {
     "data": {
      "text/plain": [
       "Product\n",
       "Product_46    262.24\n",
       "Product_23    231.96\n",
       "Product_18    146.70\n",
       "Product_14    128.59\n",
       "Product_31     17.60\n",
       "Name: Total, dtype: float64"
      ]
     },
     "execution_count": 268,
     "metadata": {},
     "output_type": "execute_result"
    }
   ],
   "source": [
    "ttpregion10.tail(5)"
   ]
  },
  {
   "cell_type": "code",
   "execution_count": 269,
   "metadata": {},
   "outputs": [
    {
     "data": {
      "text/plain": [
       "Product\n",
       "Product_40    38.0\n",
       "Product_7     36.0\n",
       "Product_12    35.0\n",
       "Product_4     34.0\n",
       "Product_29    31.0\n",
       "Name: Units Sold, dtype: float64"
      ]
     },
     "execution_count": 269,
     "metadata": {},
     "output_type": "execute_result"
    }
   ],
   "source": [
    "Total_units_sold10 = df_region_10.groupby('Product')['Units Sold'].sum().sort_values(ascending=False)\n",
    "Total_units_sold10.head(5)"
   ]
  },
  {
   "cell_type": "code",
   "execution_count": 270,
   "metadata": {},
   "outputs": [
    {
     "data": {
      "text/plain": [
       "Product\n",
       "Product_17    8.0\n",
       "Product_38    7.0\n",
       "Product_14    7.0\n",
       "Product_50    6.0\n",
       "Product_21    4.0\n",
       "Name: Units Sold, dtype: float64"
      ]
     },
     "execution_count": 270,
     "metadata": {},
     "output_type": "execute_result"
    }
   ],
   "source": [
    "Total_units_sold10.tail(5)"
   ]
  },
  {
   "cell_type": "code",
   "execution_count": null,
   "metadata": {},
   "outputs": [],
   "source": [
    "#     I looked over the dataset and findout that even the same product can \n",
    "#have very different price in the same region. But I still believe that within\n",
    "#the same country product should be able to explain how consumer favers one \n",
    "#product over the other one. I have compared most selling products in quantity\n",
    "#and the sold amount, compare them together we are able to findout the favored \n",
    "#products in specific region. At the same time I also demonstrate the people's\n",
    "# \"purchase power\" which means how much they usually spend on the products. Such \n",
    "#as region8 people spend fairly even under $1500 to purchase products, but people\n",
    "#in region7 mostly only spend under $250. There could be serval different reasons\n",
    "#can cause problem, such as the market share, population, competition, etc, with \n",
    "#the further infomation, I can give more specific recommendation to the company.\n",
    "#\n",
    "\n",
    "\n"
   ]
  }
 ],
 "metadata": {
  "kernelspec": {
   "display_name": "base",
   "language": "python",
   "name": "python3"
  },
  "language_info": {
   "codemirror_mode": {
    "name": "ipython",
    "version": 3
   },
   "file_extension": ".py",
   "mimetype": "text/x-python",
   "name": "python",
   "nbconvert_exporter": "python",
   "pygments_lexer": "ipython3",
   "version": "3.9.7"
  },
  "orig_nbformat": 4
 },
 "nbformat": 4,
 "nbformat_minor": 2
}
